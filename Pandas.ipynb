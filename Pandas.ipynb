{
 "cells": [
  {
   "cell_type": "markdown",
   "id": "cfe4f20b-563b-45f0-bc4b-79addc743d7c",
   "metadata": {},
   "source": [
    "# Pandas Examples"
   ]
  },
  {
   "cell_type": "code",
   "execution_count": 4,
   "id": "580fe30d-eca1-47b1-893b-ea24bc6dbcb4",
   "metadata": {},
   "outputs": [],
   "source": [
    "import pandas as pd\n",
    "import numpy as np"
   ]
  },
  {
   "cell_type": "code",
   "execution_count": 32,
   "id": "3258301e-d7c6-4192-be21-d49c1decd56b",
   "metadata": {},
   "outputs": [
    {
     "data": {
      "text/plain": [
       "Bir:       1\n",
       "İki:       2\n",
       "Üç:        3\n",
       "Dört:      4\n",
       "Beş:       5\n",
       "Altı:      6\n",
       "Yedi:      7\n",
       "Sekiz:     8\n",
       "Dokuz:     9\n",
       "On:       10\n",
       "dtype: int64"
      ]
     },
     "execution_count": 32,
     "metadata": {},
     "output_type": "execute_result"
    }
   ],
   "source": [
    "#s = pd.Series(data, index=index)\n",
    "df=pd.Series(\n",
    "    np.arange(1,11), \n",
    "    index=[\"Bir:\",\"İki:\",\"Üç:\",\"Dört:\",\"Beş:\",\"Altı:\",\"Yedi:\",\"Sekiz:\",\"Dokuz:\",\"On:\"]\n",
    ")\n",
    "df"
   ]
  },
  {
   "cell_type": "code",
   "execution_count": 34,
   "id": "acd483ec-e7f5-4610-bbbc-6649915e7574",
   "metadata": {},
   "outputs": [
    {
     "data": {
      "text/plain": [
       "Index(['Bir:', 'İki:', 'Üç:', 'Dört:', 'Beş:', 'Altı:', 'Yedi:', 'Sekiz:',\n",
       "       'Dokuz:', 'On:'],\n",
       "      dtype='object')"
      ]
     },
     "execution_count": 34,
     "metadata": {},
     "output_type": "execute_result"
    }
   ],
   "source": [
    "df.index"
   ]
  },
  {
   "cell_type": "code",
   "execution_count": 53,
   "id": "4de984c1-6613-45a6-b2f0-1aea768a4810",
   "metadata": {},
   "outputs": [],
   "source": [
    "tempDic = {\"Black\":0,\"White\":1111,\"Average\":1010,\"Nothing\":9999,\"Binary\":101,\"Regression\":25}"
   ]
  },
  {
   "cell_type": "code",
   "execution_count": 55,
   "id": "ef1ae95b-91fd-49f0-87b4-d0e3cb87c2be",
   "metadata": {},
   "outputs": [
    {
     "data": {
      "text/plain": [
       "Black            0\n",
       "White         1111\n",
       "Average       1010\n",
       "Nothing       9999\n",
       "Binary         101\n",
       "Regression      25\n",
       "dtype: int64"
      ]
     },
     "execution_count": 55,
     "metadata": {},
     "output_type": "execute_result"
    }
   ],
   "source": [
    "pd.Series(tempDic)"
   ]
  },
  {
   "cell_type": "code",
   "execution_count": 59,
   "id": "96129d3d-9116-46ab-8756-9e3cbed7efc9",
   "metadata": {},
   "outputs": [
    {
     "data": {
      "text/plain": [
       "Black            0.0\n",
       "Average       1010.0\n",
       "White         1111.0\n",
       "Nothing       9999.0\n",
       "Binary         101.0\n",
       "It's empty       NaN\n",
       "Regression      25.0\n",
       "dtype: float64"
      ]
     },
     "execution_count": 59,
     "metadata": {},
     "output_type": "execute_result"
    }
   ],
   "source": [
    "# If an index is passed, the values in data corresponding to the\n",
    "# labels in the index will be pulled out.\n",
    "df=pd.Series(tempDic)\n",
    "pd.Series(df,index=[\"Black\",\"Average\",\"White\",\"Nothing\",\"Binary\",\"It's empty\",\"Regression\"])"
   ]
  },
  {
   "cell_type": "code",
   "execution_count": 61,
   "id": "637a9c48-e7f9-4463-b278-4037ff586783",
   "metadata": {},
   "outputs": [],
   "source": [
    "#NaN (not a number) is the standard missing data marker used in pandas."
   ]
  },
  {
   "cell_type": "code",
   "execution_count": 63,
   "id": "252b215d-a177-451b-97c2-bfe3f4f093d5",
   "metadata": {},
   "outputs": [
    {
     "data": {
      "text/plain": [
       "F    24\n",
       "C    24\n",
       "D    24\n",
       "dtype: int64"
      ]
     },
     "execution_count": 63,
     "metadata": {},
     "output_type": "execute_result"
    }
   ],
   "source": [
    "pd.Series(24,index=[\"F\",\"C\",\"D\"])"
   ]
  },
  {
   "cell_type": "code",
   "execution_count": 65,
   "id": "9a790b0d-cdcf-4b18-af0e-177f4275261e",
   "metadata": {},
   "outputs": [
    {
     "data": {
      "text/plain": [
       "s    1.0\n",
       "d    1.0\n",
       "f    1.0\n",
       "dtype: float64"
      ]
     },
     "execution_count": 65,
     "metadata": {},
     "output_type": "execute_result"
    }
   ],
   "source": [
    "pd.Series(1.0,index=[\"s\",\"d\",\"f\"])"
   ]
  },
  {
   "cell_type": "code",
   "execution_count": 67,
   "id": "c315a0fb-ff88-441a-b591-fd931f226e76",
   "metadata": {},
   "outputs": [
    {
     "data": {
      "text/plain": [
       "Black            0\n",
       "White         1111\n",
       "Average       1010\n",
       "Nothing       9999\n",
       "Binary         101\n",
       "Regression      25\n",
       "dtype: int64"
      ]
     },
     "execution_count": 67,
     "metadata": {},
     "output_type": "execute_result"
    }
   ],
   "source": [
    "#Series acts very similarly to a ndarray and is a valid argument to most NumPy functions.\n",
    "# However, operations such as slicing will also slice the index.\n",
    "df"
   ]
  },
  {
   "cell_type": "code",
   "execution_count": 89,
   "id": "d4739330-02cd-4aa1-b4dc-617b0bd7852d",
   "metadata": {},
   "outputs": [
    {
     "name": "stdout",
     "output_type": "stream",
     "text": [
      "Series([], dtype: int64)\n",
      "-------------\n",
      "White      1111\n",
      "Average    1010\n",
      "dtype: int64\n",
      "-------------\n",
      "Average       1010\n",
      "Nothing       9999\n",
      "Binary         101\n",
      "Regression      25\n",
      "dtype: int64\n",
      "###############\n",
      "White         1111\n",
      "Nothing       9999\n",
      "Regression      25\n",
      "dtype: int64\n"
     ]
    }
   ],
   "source": [
    "print(df.iloc[0:0])\n",
    "print(\"-------------\")\n",
    "print(df.iloc[1:3])\n",
    "print(\"-------------\")\n",
    "print(df.iloc[2:6])\n",
    "print(\"###############\")\n",
    "print(df.iloc[1:6:2])"
   ]
  },
  {
   "cell_type": "code",
   "execution_count": 113,
   "id": "7e11a86f-eee5-4398-a521-42a1f5f6d67c",
   "metadata": {},
   "outputs": [
    {
     "name": "stdout",
     "output_type": "stream",
     "text": [
      "Black         0\n",
      "White         1\n",
      "Average       3\n",
      "Nothing       4\n",
      "Binary        5\n",
      "Regression    6\n",
      "dtype: int64\n",
      "Black         0\n",
      "White         1\n",
      "Average       2\n",
      "Nothing       3\n",
      "Binary        4\n",
      "Regression    5\n",
      "dtype: int64\n"
     ]
    }
   ],
   "source": [
    "print(df)\n",
    "tempDic = {\"Black\":0,\"White\":1,\"Average\":2,\"Nothing\":3,\"Binary\":4,\"Regression\":5}\n",
    "df=pd.Series(tempDic)\n",
    "print(df)"
   ]
  },
  {
   "cell_type": "code",
   "execution_count": 115,
   "id": "452096ec-c23b-4f68-8cc7-b76cd2ddc669",
   "metadata": {},
   "outputs": [
    {
     "data": {
      "text/plain": [
       "Black           1.000000\n",
       "White           2.718282\n",
       "Average         7.389056\n",
       "Nothing        20.085537\n",
       "Binary         54.598150\n",
       "Regression    148.413159\n",
       "dtype: float64"
      ]
     },
     "execution_count": 115,
     "metadata": {},
     "output_type": "execute_result"
    }
   ],
   "source": [
    "np.exp(df) # e^x function, which x is values in our array."
   ]
  },
  {
   "cell_type": "code",
   "execution_count": 119,
   "id": "cef4d696-e09f-4eec-980e-9e50745dd1ef",
   "metadata": {},
   "outputs": [
    {
     "data": {
      "text/plain": [
       "dtype('int64')"
      ]
     },
     "execution_count": 119,
     "metadata": {},
     "output_type": "execute_result"
    }
   ],
   "source": [
    "df.dtype"
   ]
  },
  {
   "cell_type": "code",
   "execution_count": 121,
   "id": "0245a268-d4c2-4a09-9c79-5cb9206b6f96",
   "metadata": {},
   "outputs": [
    {
     "data": {
      "text/plain": [
       "pandas.core.series.Series"
      ]
     },
     "execution_count": 121,
     "metadata": {},
     "output_type": "execute_result"
    }
   ],
   "source": [
    "type(df)"
   ]
  },
  {
   "cell_type": "code",
   "execution_count": 123,
   "id": "0487fb7c-110e-4225-8c2a-1538c49e57c2",
   "metadata": {},
   "outputs": [
    {
     "data": {
      "text/plain": [
       "<NumpyExtensionArray>\n",
       "[0, 1, 2, 3, 4, 5]\n",
       "Length: 6, dtype: int64"
      ]
     },
     "execution_count": 123,
     "metadata": {},
     "output_type": "execute_result"
    }
   ],
   "source": [
    "df.array"
   ]
  },
  {
   "cell_type": "code",
   "execution_count": 125,
   "id": "2a85d61c-00a8-40b1-9e2e-d04d706d436a",
   "metadata": {},
   "outputs": [
    {
     "data": {
      "text/plain": [
       "array([0, 1, 2, 3, 4, 5])"
      ]
     },
     "execution_count": 125,
     "metadata": {},
     "output_type": "execute_result"
    }
   ],
   "source": [
    "df.to_numpy()"
   ]
  },
  {
   "cell_type": "code",
   "execution_count": 127,
   "id": "819c8739-fc97-4868-bc69-7bc178d83604",
   "metadata": {},
   "outputs": [
    {
     "data": {
      "text/plain": [
       "Black         0\n",
       "White         1\n",
       "Average       2\n",
       "Nothing       3\n",
       "Binary        4\n",
       "Regression    5\n",
       "dtype: int64"
      ]
     },
     "execution_count": 127,
     "metadata": {},
     "output_type": "execute_result"
    }
   ],
   "source": [
    "df"
   ]
  },
  {
   "cell_type": "code",
   "execution_count": 129,
   "id": "bb5c3de2-2878-4e85-a505-2ac433d69877",
   "metadata": {},
   "outputs": [],
   "source": [
    "df[\"Binary\"]=1010"
   ]
  },
  {
   "cell_type": "code",
   "execution_count": 131,
   "id": "00d2cea8-a7bb-410e-b1e9-1c5d522c4e9e",
   "metadata": {},
   "outputs": [
    {
     "data": {
      "text/plain": [
       "Black            0\n",
       "White            1\n",
       "Average          2\n",
       "Nothing          3\n",
       "Binary        1010\n",
       "Regression       5\n",
       "dtype: int64"
      ]
     },
     "execution_count": 131,
     "metadata": {},
     "output_type": "execute_result"
    }
   ],
   "source": [
    "df"
   ]
  },
  {
   "cell_type": "code",
   "execution_count": 135,
   "id": "13763405-9db2-4eaa-823d-aeb83f57f74b",
   "metadata": {},
   "outputs": [
    {
     "data": {
      "text/plain": [
       "1"
      ]
     },
     "execution_count": 135,
     "metadata": {},
     "output_type": "execute_result"
    }
   ],
   "source": [
    "df['White']"
   ]
  },
  {
   "cell_type": "code",
   "execution_count": 137,
   "id": "c4989e0a-9663-4cc3-a367-5e8acd978bcc",
   "metadata": {},
   "outputs": [
    {
     "data": {
      "text/plain": [
       "False"
      ]
     },
     "execution_count": 137,
     "metadata": {},
     "output_type": "execute_result"
    }
   ],
   "source": [
    "\"Nan\" in df"
   ]
  },
  {
   "cell_type": "code",
   "execution_count": 139,
   "id": "29c1b45e-164d-40b6-962b-4925a653146e",
   "metadata": {},
   "outputs": [],
   "source": [
    "df=pd.Series(tempDic)\n",
    "temp = pd.Series(df,index=[\"Black\",\"Average\",\"White\",\"Nothing\",\"Binary\",\"It's empty\",\"Regression\"])"
   ]
  },
  {
   "cell_type": "code",
   "execution_count": 141,
   "id": "41308244-8935-44b9-9921-4b32a2a10568",
   "metadata": {},
   "outputs": [
    {
     "data": {
      "text/plain": [
       "Black         0.0\n",
       "Average       2.0\n",
       "White         1.0\n",
       "Nothing       3.0\n",
       "Binary        4.0\n",
       "It's empty    NaN\n",
       "Regression    5.0\n",
       "dtype: float64"
      ]
     },
     "execution_count": 141,
     "metadata": {},
     "output_type": "execute_result"
    }
   ],
   "source": [
    "temp"
   ]
  },
  {
   "cell_type": "code",
   "execution_count": 143,
   "id": "91887f44-e4d3-46d5-809f-e2e0949e2b3c",
   "metadata": {},
   "outputs": [
    {
     "data": {
      "text/plain": [
       "False"
      ]
     },
     "execution_count": 143,
     "metadata": {},
     "output_type": "execute_result"
    }
   ],
   "source": [
    "\"NaN\" in temp"
   ]
  },
  {
   "cell_type": "code",
   "execution_count": 149,
   "id": "d4dab677-b2d0-4193-9477-478907bcbf83",
   "metadata": {},
   "outputs": [
    {
     "data": {
      "text/plain": [
       "True"
      ]
     },
     "execution_count": 149,
     "metadata": {},
     "output_type": "execute_result"
    }
   ],
   "source": [
    "\"It's empty\" in temp"
   ]
  },
  {
   "cell_type": "code",
   "execution_count": 153,
   "id": "c65fab25-0e6d-47ab-9e06-1673d7a80c7c",
   "metadata": {},
   "outputs": [
    {
     "name": "stdout",
     "output_type": "stream",
     "text": [
      "True\n"
     ]
    }
   ],
   "source": [
    "print(np.isnan(temp).any())"
   ]
  },
  {
   "cell_type": "code",
   "execution_count": 161,
   "id": "69bd2d49-ae7f-404d-a4a7-3b3c00ae0535",
   "metadata": {},
   "outputs": [
    {
     "name": "stdout",
     "output_type": "stream",
     "text": [
      "Black         0\n",
      "White         1\n",
      "Average       2\n",
      "Nothing       3\n",
      "Binary        4\n",
      "Regression    5\n",
      "dtype: int64\n",
      "------------------\n",
      "is there asny null value?  True\n"
     ]
    }
   ],
   "source": [
    "print(df)\n",
    "print(\"------------------\")\n",
    "print(\"is there asny null value? \",np.isnan(temp).any())"
   ]
  },
  {
   "cell_type": "code",
   "execution_count": 163,
   "id": "dc3f914d-50e9-42cf-9868-0202e12b5dee",
   "metadata": {},
   "outputs": [
    {
     "ename": "KeyError",
     "evalue": "'Mahmut'",
     "output_type": "error",
     "traceback": [
      "\u001b[0;31m---------------------------------------------------------------------------\u001b[0m",
      "\u001b[0;31mKeyError\u001b[0m                                  Traceback (most recent call last)",
      "File \u001b[0;32m/opt/anaconda3/lib/python3.12/site-packages/pandas/core/indexes/base.py:3805\u001b[0m, in \u001b[0;36mIndex.get_loc\u001b[0;34m(self, key)\u001b[0m\n\u001b[1;32m   3804\u001b[0m \u001b[38;5;28;01mtry\u001b[39;00m:\n\u001b[0;32m-> 3805\u001b[0m     \u001b[38;5;28;01mreturn\u001b[39;00m \u001b[38;5;28mself\u001b[39m\u001b[38;5;241m.\u001b[39m_engine\u001b[38;5;241m.\u001b[39mget_loc(casted_key)\n\u001b[1;32m   3806\u001b[0m \u001b[38;5;28;01mexcept\u001b[39;00m \u001b[38;5;167;01mKeyError\u001b[39;00m \u001b[38;5;28;01mas\u001b[39;00m err:\n",
      "File \u001b[0;32mindex.pyx:167\u001b[0m, in \u001b[0;36mpandas._libs.index.IndexEngine.get_loc\u001b[0;34m()\u001b[0m\n",
      "File \u001b[0;32mindex.pyx:196\u001b[0m, in \u001b[0;36mpandas._libs.index.IndexEngine.get_loc\u001b[0;34m()\u001b[0m\n",
      "File \u001b[0;32mpandas/_libs/hashtable_class_helper.pxi:7081\u001b[0m, in \u001b[0;36mpandas._libs.hashtable.PyObjectHashTable.get_item\u001b[0;34m()\u001b[0m\n",
      "File \u001b[0;32mpandas/_libs/hashtable_class_helper.pxi:7089\u001b[0m, in \u001b[0;36mpandas._libs.hashtable.PyObjectHashTable.get_item\u001b[0;34m()\u001b[0m\n",
      "\u001b[0;31mKeyError\u001b[0m: 'Mahmut'",
      "\nThe above exception was the direct cause of the following exception:\n",
      "\u001b[0;31mKeyError\u001b[0m                                  Traceback (most recent call last)",
      "Cell \u001b[0;32mIn[163], line 1\u001b[0m\n\u001b[0;32m----> 1\u001b[0m df[\u001b[38;5;124m\"\u001b[39m\u001b[38;5;124mMahmut\u001b[39m\u001b[38;5;124m\"\u001b[39m]\n",
      "File \u001b[0;32m/opt/anaconda3/lib/python3.12/site-packages/pandas/core/series.py:1121\u001b[0m, in \u001b[0;36mSeries.__getitem__\u001b[0;34m(self, key)\u001b[0m\n\u001b[1;32m   1118\u001b[0m     \u001b[38;5;28;01mreturn\u001b[39;00m \u001b[38;5;28mself\u001b[39m\u001b[38;5;241m.\u001b[39m_values[key]\n\u001b[1;32m   1120\u001b[0m \u001b[38;5;28;01melif\u001b[39;00m key_is_scalar:\n\u001b[0;32m-> 1121\u001b[0m     \u001b[38;5;28;01mreturn\u001b[39;00m \u001b[38;5;28mself\u001b[39m\u001b[38;5;241m.\u001b[39m_get_value(key)\n\u001b[1;32m   1123\u001b[0m \u001b[38;5;66;03m# Convert generator to list before going through hashable part\u001b[39;00m\n\u001b[1;32m   1124\u001b[0m \u001b[38;5;66;03m# (We will iterate through the generator there to check for slices)\u001b[39;00m\n\u001b[1;32m   1125\u001b[0m \u001b[38;5;28;01mif\u001b[39;00m is_iterator(key):\n",
      "File \u001b[0;32m/opt/anaconda3/lib/python3.12/site-packages/pandas/core/series.py:1237\u001b[0m, in \u001b[0;36mSeries._get_value\u001b[0;34m(self, label, takeable)\u001b[0m\n\u001b[1;32m   1234\u001b[0m     \u001b[38;5;28;01mreturn\u001b[39;00m \u001b[38;5;28mself\u001b[39m\u001b[38;5;241m.\u001b[39m_values[label]\n\u001b[1;32m   1236\u001b[0m \u001b[38;5;66;03m# Similar to Index.get_value, but we do not fall back to positional\u001b[39;00m\n\u001b[0;32m-> 1237\u001b[0m loc \u001b[38;5;241m=\u001b[39m \u001b[38;5;28mself\u001b[39m\u001b[38;5;241m.\u001b[39mindex\u001b[38;5;241m.\u001b[39mget_loc(label)\n\u001b[1;32m   1239\u001b[0m \u001b[38;5;28;01mif\u001b[39;00m is_integer(loc):\n\u001b[1;32m   1240\u001b[0m     \u001b[38;5;28;01mreturn\u001b[39;00m \u001b[38;5;28mself\u001b[39m\u001b[38;5;241m.\u001b[39m_values[loc]\n",
      "File \u001b[0;32m/opt/anaconda3/lib/python3.12/site-packages/pandas/core/indexes/base.py:3812\u001b[0m, in \u001b[0;36mIndex.get_loc\u001b[0;34m(self, key)\u001b[0m\n\u001b[1;32m   3807\u001b[0m     \u001b[38;5;28;01mif\u001b[39;00m \u001b[38;5;28misinstance\u001b[39m(casted_key, \u001b[38;5;28mslice\u001b[39m) \u001b[38;5;129;01mor\u001b[39;00m (\n\u001b[1;32m   3808\u001b[0m         \u001b[38;5;28misinstance\u001b[39m(casted_key, abc\u001b[38;5;241m.\u001b[39mIterable)\n\u001b[1;32m   3809\u001b[0m         \u001b[38;5;129;01mand\u001b[39;00m \u001b[38;5;28many\u001b[39m(\u001b[38;5;28misinstance\u001b[39m(x, \u001b[38;5;28mslice\u001b[39m) \u001b[38;5;28;01mfor\u001b[39;00m x \u001b[38;5;129;01min\u001b[39;00m casted_key)\n\u001b[1;32m   3810\u001b[0m     ):\n\u001b[1;32m   3811\u001b[0m         \u001b[38;5;28;01mraise\u001b[39;00m InvalidIndexError(key)\n\u001b[0;32m-> 3812\u001b[0m     \u001b[38;5;28;01mraise\u001b[39;00m \u001b[38;5;167;01mKeyError\u001b[39;00m(key) \u001b[38;5;28;01mfrom\u001b[39;00m \u001b[38;5;21;01merr\u001b[39;00m\n\u001b[1;32m   3813\u001b[0m \u001b[38;5;28;01mexcept\u001b[39;00m \u001b[38;5;167;01mTypeError\u001b[39;00m:\n\u001b[1;32m   3814\u001b[0m     \u001b[38;5;66;03m# If we have a listlike key, _check_indexing_error will raise\u001b[39;00m\n\u001b[1;32m   3815\u001b[0m     \u001b[38;5;66;03m#  InvalidIndexError. Otherwise we fall through and re-raise\u001b[39;00m\n\u001b[1;32m   3816\u001b[0m     \u001b[38;5;66;03m#  the TypeError.\u001b[39;00m\n\u001b[1;32m   3817\u001b[0m     \u001b[38;5;28mself\u001b[39m\u001b[38;5;241m.\u001b[39m_check_indexing_error(key)\n",
      "\u001b[0;31mKeyError\u001b[0m: 'Mahmut'"
     ]
    }
   ],
   "source": [
    "df[\"Mahmut\"] # if it doesn't contain that value, then an exception pops up."
   ]
  },
  {
   "cell_type": "code",
   "execution_count": 165,
   "id": "7ac83a89-90c5-474e-8110-2f37dbb73e4b",
   "metadata": {},
   "outputs": [
    {
     "data": {
      "text/plain": [
       "Black         0\n",
       "White         1\n",
       "Average       2\n",
       "Nothing       3\n",
       "Binary        4\n",
       "Regression    5\n",
       "dtype: int64"
      ]
     },
     "execution_count": 165,
     "metadata": {},
     "output_type": "execute_result"
    }
   ],
   "source": [
    "df"
   ]
  },
  {
   "cell_type": "code",
   "execution_count": 169,
   "id": "8273afad-f69b-4f41-ad43-3c0200db2f6b",
   "metadata": {},
   "outputs": [
    {
     "data": {
      "text/plain": [
       "Black         0.0\n",
       "Average       2.0\n",
       "White         1.0\n",
       "Nothing       3.0\n",
       "Binary        4.0\n",
       "It's empty    NaN\n",
       "Regression    5.0\n",
       "dtype: float64"
      ]
     },
     "execution_count": 169,
     "metadata": {},
     "output_type": "execute_result"
    }
   ],
   "source": [
    "temp"
   ]
  },
  {
   "cell_type": "code",
   "execution_count": 182,
   "id": "d5a49893-4f74-436e-aa9d-a71513daa895",
   "metadata": {},
   "outputs": [
    {
     "name": "stdout",
     "output_type": "stream",
     "text": [
      "None\n"
     ]
    }
   ],
   "source": [
    "print(temp.get(np.nan))"
   ]
  },
  {
   "cell_type": "code",
   "execution_count": 192,
   "id": "160c9806-7555-496a-af1e-a53742c69ddd",
   "metadata": {},
   "outputs": [
    {
     "name": "stdout",
     "output_type": "stream",
     "text": [
      "EMPTY\n"
     ]
    }
   ],
   "source": [
    "print(temp.get(\"bLACK\",\"EMPTY\"))"
   ]
  },
  {
   "cell_type": "code",
   "execution_count": 194,
   "id": "99256eaa-2b6f-4fb8-8747-eefb56a05f42",
   "metadata": {},
   "outputs": [
    {
     "name": "stdout",
     "output_type": "stream",
     "text": [
      "0.0\n"
     ]
    }
   ],
   "source": [
    "print(temp.get(\"Black\",\"EMPTY\"))"
   ]
  },
  {
   "cell_type": "code",
   "execution_count": 204,
   "id": "98b1f115-e428-44aa-9cbe-85612c5b903c",
   "metadata": {},
   "outputs": [
    {
     "data": {
      "text/plain": [
       "Black         0\n",
       "White         1\n",
       "Average       2\n",
       "Nothing       3\n",
       "Binary        4\n",
       "Regression    5\n",
       "dtype: int64"
      ]
     },
     "execution_count": 204,
     "metadata": {},
     "output_type": "execute_result"
    }
   ],
   "source": [
    "df"
   ]
  },
  {
   "cell_type": "code",
   "execution_count": 206,
   "id": "d24c7371-444b-4b5a-ab29-e73bb32cc59f",
   "metadata": {},
   "outputs": [
    {
     "data": {
      "text/plain": [
       "Black          0\n",
       "White          2\n",
       "Average        4\n",
       "Nothing        6\n",
       "Binary         8\n",
       "Regression    10\n",
       "dtype: int64"
      ]
     },
     "execution_count": 206,
     "metadata": {},
     "output_type": "execute_result"
    }
   ],
   "source": [
    "df*2"
   ]
  },
  {
   "cell_type": "code",
   "execution_count": 208,
   "id": "3cab323d-5dfe-4e9a-b620-27f213902464",
   "metadata": {},
   "outputs": [
    {
     "data": {
      "text/plain": [
       "Black        -5\n",
       "White        -4\n",
       "Average      -3\n",
       "Nothing      -2\n",
       "Binary       -1\n",
       "Regression    0\n",
       "dtype: int64"
      ]
     },
     "execution_count": 208,
     "metadata": {},
     "output_type": "execute_result"
    }
   ],
   "source": [
    "df-5"
   ]
  },
  {
   "cell_type": "code",
   "execution_count": 210,
   "id": "5a5dc06e-df69-4e5a-8642-7f02c88a00a0",
   "metadata": {},
   "outputs": [
    {
     "data": {
      "text/plain": [
       "Black         10\n",
       "White         11\n",
       "Average       12\n",
       "Nothing       13\n",
       "Binary        14\n",
       "Regression    15\n",
       "dtype: int64"
      ]
     },
     "execution_count": 210,
     "metadata": {},
     "output_type": "execute_result"
    }
   ],
   "source": [
    "df+10"
   ]
  },
  {
   "cell_type": "code",
   "execution_count": 212,
   "id": "e13cfc94-57e9-4952-a37f-f98e4826218a",
   "metadata": {},
   "outputs": [
    {
     "data": {
      "text/plain": [
       "Black         0.0\n",
       "White         0.1\n",
       "Average       0.2\n",
       "Nothing       0.3\n",
       "Binary        0.4\n",
       "Regression    0.5\n",
       "dtype: float64"
      ]
     },
     "execution_count": 212,
     "metadata": {},
     "output_type": "execute_result"
    }
   ],
   "source": [
    "df/10"
   ]
  },
  {
   "cell_type": "code",
   "execution_count": 214,
   "id": "4cce7f8a-c64a-4ddb-a8dc-d3dd0c05952b",
   "metadata": {},
   "outputs": [
    {
     "data": {
      "text/plain": [
       "Black          0\n",
       "White         10\n",
       "Average       20\n",
       "Nothing       30\n",
       "Binary        40\n",
       "Regression    50\n",
       "dtype: int64"
      ]
     },
     "execution_count": 214,
     "metadata": {},
     "output_type": "execute_result"
    }
   ],
   "source": [
    "df*10"
   ]
  },
  {
   "cell_type": "code",
   "execution_count": 216,
   "id": "258cf53a-fa17-484b-8dc5-6691be292b47",
   "metadata": {},
   "outputs": [
    {
     "data": {
      "text/plain": [
       "Black         0.0\n",
       "White         0.1\n",
       "Average       0.2\n",
       "Nothing       0.3\n",
       "Binary        0.4\n",
       "Regression    0.5\n",
       "dtype: float64"
      ]
     },
     "execution_count": 216,
     "metadata": {},
     "output_type": "execute_result"
    }
   ],
   "source": [
    "df/10"
   ]
  },
  {
   "cell_type": "code",
   "execution_count": 218,
   "id": "d87cda70-ca1d-4b2a-ba3d-175c821ea93f",
   "metadata": {},
   "outputs": [
    {
     "data": {
      "text/plain": [
       "Black         0\n",
       "White         1\n",
       "Average       2\n",
       "Nothing       3\n",
       "Binary        4\n",
       "Regression    5\n",
       "dtype: int64"
      ]
     },
     "execution_count": 218,
     "metadata": {},
     "output_type": "execute_result"
    }
   ],
   "source": [
    "df"
   ]
  },
  {
   "cell_type": "code",
   "execution_count": 220,
   "id": "934bf4ea-d937-4498-81bd-21039e3489ca",
   "metadata": {},
   "outputs": [
    {
     "data": {
      "text/plain": [
       "Black        -1\n",
       "White         0\n",
       "Average       1\n",
       "Nothing       2\n",
       "Binary        3\n",
       "Regression    4\n",
       "dtype: int64"
      ]
     },
     "execution_count": 220,
     "metadata": {},
     "output_type": "execute_result"
    }
   ],
   "source": [
    "df-1"
   ]
  },
  {
   "cell_type": "code",
   "execution_count": 222,
   "id": "cd6ab7b6-361c-437c-bbf2-ff2315e1b0e5",
   "metadata": {},
   "outputs": [
    {
     "data": {
      "text/plain": [
       "Black        -3\n",
       "White        -2\n",
       "Average      -1\n",
       "Nothing       0\n",
       "Binary        1\n",
       "Regression    2\n",
       "dtype: int64"
      ]
     },
     "execution_count": 222,
     "metadata": {},
     "output_type": "execute_result"
    }
   ],
   "source": [
    "df-3"
   ]
  },
  {
   "cell_type": "code",
   "execution_count": 224,
   "id": "45ce647c-bec8-4ee4-8930-752b6c36c2e7",
   "metadata": {},
   "outputs": [
    {
     "data": {
      "text/plain": [
       "Black        -5\n",
       "White        -4\n",
       "Average      -3\n",
       "Nothing      -2\n",
       "Binary       -1\n",
       "Regression    0\n",
       "dtype: int64"
      ]
     },
     "execution_count": 224,
     "metadata": {},
     "output_type": "execute_result"
    }
   ],
   "source": [
    "df-10+5"
   ]
  },
  {
   "cell_type": "code",
   "execution_count": 226,
   "id": "0ceab5f3-c314-4478-8809-41c368542bed",
   "metadata": {},
   "outputs": [
    {
     "data": {
      "text/plain": [
       "Black         1.000000\n",
       "White         1.105171\n",
       "Average       1.221403\n",
       "Nothing       1.349859\n",
       "Binary        1.491825\n",
       "Regression    1.648721\n",
       "dtype: float64"
      ]
     },
     "execution_count": 226,
     "metadata": {},
     "output_type": "execute_result"
    }
   ],
   "source": [
    "np.exp(df/10)"
   ]
  },
  {
   "cell_type": "code",
   "execution_count": 238,
   "id": "3e928b8b-dcb5-4e5d-a1ff-8df871e2e613",
   "metadata": {},
   "outputs": [
    {
     "name": "stdout",
     "output_type": "stream",
     "text": [
      "Black         0\n",
      "White         1\n",
      "Average       2\n",
      "Nothing       3\n",
      "Binary        4\n",
      "Regression    5\n",
      "dtype: int64\n",
      "+\n",
      "Black         0.0\n",
      "Average       2.0\n",
      "White         1.0\n",
      "Nothing       3.0\n",
      "Binary        4.0\n",
      "It's empty    NaN\n",
      "Regression    5.0\n",
      "dtype: float64\n"
     ]
    },
    {
     "data": {
      "text/plain": [
       "Average       4.0\n",
       "Binary        8.0\n",
       "Black         NaN\n",
       "It's empty    NaN\n",
       "Nothing       6.0\n",
       "Regression    NaN\n",
       "White         2.0\n",
       "dtype: float64"
      ]
     },
     "execution_count": 238,
     "metadata": {},
     "output_type": "execute_result"
    }
   ],
   "source": [
    "print(df)\n",
    "print(\"+\")\n",
    "print(temp)\n",
    "df.iloc[1:] + temp.iloc[:-1]"
   ]
  },
  {
   "cell_type": "code",
   "execution_count": null,
   "id": "aecf74c2-5415-4c28-9aaa-2c5102261979",
   "metadata": {},
   "outputs": [],
   "source": []
  }
 ],
 "metadata": {
  "kernelspec": {
   "display_name": "Python [conda env:base] *",
   "language": "python",
   "name": "conda-base-py"
  },
  "language_info": {
   "codemirror_mode": {
    "name": "ipython",
    "version": 3
   },
   "file_extension": ".py",
   "mimetype": "text/x-python",
   "name": "python",
   "nbconvert_exporter": "python",
   "pygments_lexer": "ipython3",
   "version": "3.12.7"
  }
 },
 "nbformat": 4,
 "nbformat_minor": 5
}
